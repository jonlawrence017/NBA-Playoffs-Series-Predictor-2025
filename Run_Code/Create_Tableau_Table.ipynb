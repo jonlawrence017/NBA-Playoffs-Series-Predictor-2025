{
 "cells": [
  {
   "cell_type": "markdown",
   "id": "1f2626d4-f50a-428b-a489-5225dccb2271",
   "metadata": {},
   "source": [
    "# Imports"
   ]
  },
  {
   "cell_type": "code",
   "execution_count": 1,
   "id": "b27e79a4-dcc1-42ab-8d8e-680d0726654b",
   "metadata": {},
   "outputs": [],
   "source": [
    "import pandas as pd"
   ]
  },
  {
   "cell_type": "markdown",
   "id": "3793f504-2d9c-4a1f-937d-c2e1d6cc22e1",
   "metadata": {},
   "source": [
    "# Create Tableau Ready Data"
   ]
  },
  {
   "cell_type": "code",
   "execution_count": 2,
   "id": "052f626a-2f9e-49eb-825b-2e6480ab4469",
   "metadata": {},
   "outputs": [
    {
     "name": "stdout",
     "output_type": "stream",
     "text": [
      "Tableau data with seeds saved to tableau_nba_playoff_probs_2025.csv\n"
     ]
    }
   ],
   "source": [
    "# Load Monte Carlo results\n",
    "first_round = pd.read_csv(r\"C:\\Users\\jonla\\NBA_Playoffs_Series_Predictor\\Monte_Carlo_Output\\first_round_probabilities_2025_fixed_bracket_series.csv\", index_col=0)\n",
    "conf_semi = pd.read_csv(r\"C:\\Users\\jonla\\NBA_Playoffs_Series_Predictor\\Monte_Carlo_Output\\conf_semi_probabilities_2025_fixed_bracket_series.csv\", index_col=0)\n",
    "conf_finals = pd.read_csv(r\"C:\\Users\\jonla\\NBA_Playoffs_Series_Predictor\\Monte_Carlo_Output\\conf_finals_probabilities_2025_fixed_bracket_series.csv\", index_col=0)\n",
    "champion = pd.read_csv(r\"C:\\Users\\jonla\\NBA_Playoffs_Series_Predictor\\Monte_Carlo_Output\\champion_probabilities_2025_fixed_bracket_series.csv\", index_col=0)\n",
    "\n",
    "# Define conferences and seeds\n",
    "east_teams = [\n",
    "    ('Cleveland Cavaliers', 1),\n",
    "    ('Boston Celtics', 2),\n",
    "    ('New York Knicks', 3),\n",
    "    ('Indiana Pacers', 4),\n",
    "    ('Milwaukee Bucks', 5),\n",
    "    ('Detroit Pistons', 6),\n",
    "    ('Orlando Magic', 7),\n",
    "    ('Miami Heat', 8)\n",
    "]\n",
    "west_teams = [\n",
    "    ('Oklahoma City Thunder', 1),\n",
    "    ('Houston Rockets', 2),\n",
    "    ('Los Angeles Lakers', 3),\n",
    "    ('Denver Nuggets', 4),\n",
    "    ('LA Clippers', 5),\n",
    "    ('Minnesota Timberwolves', 6),\n",
    "    ('Golden State Warriors', 7),\n",
    "    ('Memphis Grizzlies', 8)\n",
    "]\n",
    "\n",
    "# Create a mapping of team to seed and conference\n",
    "team_info = {}\n",
    "for team, seed in east_teams:\n",
    "    team_info[team] = {'Conference': 'Eastern', 'Seed': seed}\n",
    "for team, seed in west_teams:\n",
    "    team_info[team] = {'Conference': 'Western', 'Seed': seed}\n",
    "\n",
    "# Combine data\n",
    "data = []\n",
    "for stage, df in [\n",
    "    ('First Round', first_round),\n",
    "    ('Conf Semifinals', conf_semi),\n",
    "    ('Conf Finals', conf_finals),\n",
    "    ('Champion', champion)\n",
    "]:\n",
    "    for team, prob in df['Probability'].items():\n",
    "        if team in team_info:\n",
    "            data.append({\n",
    "                'Team': team,\n",
    "                'Conference': team_info[team]['Conference'],\n",
    "                'Seed': team_info[team]['Seed'],\n",
    "                'Stage': stage,\n",
    "                'Probability': prob\n",
    "            })\n",
    "\n",
    "# Create DataFrame\n",
    "tableau_df = pd.DataFrame(data)\n",
    "\n",
    "# Pivot the DataFrame to have stages as columns\n",
    "tableau_pivot = tableau_df.pivot(index=['Conference', 'Seed', 'Team'], columns='Stage', values='Probability').reset_index()\n",
    "\n",
    "# Reorder columns to match desired output\n",
    "stage_order = ['First Round', 'Conf Semifinals', 'Conf Finals', 'Champion']\n",
    "tableau_pivot = tableau_pivot[['Conference', 'Seed', 'Team'] + stage_order]\n",
    "\n",
    "# Sort by Conference and Seed\n",
    "tableau_pivot = tableau_pivot.sort_values(by=['Conference', 'Seed'])\n",
    "\n",
    "# Save to CSV\n",
    "tableau_pivot.to_csv(r\"C:\\Users\\jonla\\NBA_Playoffs_Series_Predictor\\Monte_Carlo_Output\\tableau_nba_playoff_probs_2025.csv\", index=False)\n",
    "print(\"Tableau data with seeds saved to tableau_nba_playoff_probs_2025.csv\")"
   ]
  },
{
 "cell_type": "code",
   "execution_count": null,
   "id": "9f6797d3-6bc1-4654-9814-0f0992bc78d9",
   "metadata": {},
   "outputs": [],
   "source": []
  }
 ],
 "metadata": {
  "kernelspec": {
   "display_name": "Python (nn)",
   "language": "python",
   "name": "nn"
  },
  "language_info": {
   "codemirror_mode": {
    "name": "ipython",
    "version": 3
   },
   "file_extension": ".py",
   "mimetype": "text/x-python",
   "name": "python",
   "nbconvert_exporter": "python",
   "pygments_lexer": "ipython3",
   "version": "3.9.13"
  }
 },
 "nbformat": 4,
 "nbformat_minor": 5
}
